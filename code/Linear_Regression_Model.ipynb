{
 "cells": [
  {
   "cell_type": "markdown",
   "metadata": {},
   "source": [
    "# Linear Regression Covid-19 Model\n",
    "**Matt Paterson, hello@hireMattPaterson.com**<br>\n",
    "**Machine Learning Engineer**<br>\n",
    "**Cloud Brigade, Santa Cruz, CA**<br>\n",
    "***Ocotber 20, 2020***"
   ]
  },
  {
   "cell_type": "markdown",
   "metadata": {},
   "source": [
    "## HelloModel\n",
    "As the 'hello_world' of machine learning, the linear regression model (also known as Ordinary Least Squares) is a linear model that allows us to look at many different features and predict a single continuous variable. In this case, we are trying to use the linear regression model to predict how many deaths a county will see as a result of covid-19, the number of cases it will experience, and the percapita deaths and cases rate. It should be noted that this iteration of the model is using a snapshot from October 10, 2020.\n",
    "\n",
    "We will also use the Gradient Boosting Regressor, another regression model that predicts continuous variables, but typically is used as an ensemble model, or to put several weaker predictors through a more accurate algorithm.\n",
    "\n",
    "## Features\n",
    "In order to create our predictions, this notebook will demonstrate each of the selected features and how they are related to one another and to our target variables. It will also mention a few of the features that we chose not to use in our predictions. Each feature will hopefully help us to see linearity in our model when plotted on an xy axis. More graphical representations will be uploaded in future updates to this notebook prior to 11/01/2020.\n",
    "\n",
    "There should be independence between features (ie no feature should be an aggregate of another in the same predictive model, such as 'deaths per day' and 'deaths cumulative'). Also, we'll want to see normality in the features when we look at a histogram. While normality won't be perfect, we'll see that nothing really is in predictive modeling. Finally, we really would like to see homoscedasticity as a result of the model, or a minimum of outliers in the data. This way we are modeling the behavior and not the noise.\n",
    "\n",
    "## The Noise\n",
    "It should be noted before we dive too deep in to this that places like New York City and counties in Northern New Jersey are expected to appear as outliers in this model. This can either skew the results, or we can use the prior knowledge about these areas to our advantage in future predictions. \n",
    "\n",
    "Alternatively, we can take intutive information about these counties like population density, the reliance on trains and busses for public transportation, and the abundance of 'essential' workers whose jobs require them to work in close quarters with other people; and compare these to the traits of rural counties in Georgia, Louisianna, Florida, and New Mexico where we also see an abundance of deaths due to Covid-19 but do not see many of the aforementioned traits. What else do these areas have in common?\n",
    "\n",
    "The noise in our model may tell a story or it might try to lead us astray. Let's begin."
   ]
  },
  {
   "cell_type": "code",
   "execution_count": 1,
   "metadata": {},
   "outputs": [],
   "source": [
    "# Import the needed libraries\n",
    "import pandas as pd\n",
    "import numpy as np\n",
    "import matplotlib.pyplot as plt\n",
    "import seaborn as sns\n",
    "import os\n",
    "\n",
    "from sklearn.ensemble          import GradientBoostingRegressor\n",
    "from sklearn.linear_model      import LogisticRegression, LinearRegression, Ridge, Lasso\n",
    "from sklearn.model_selection   import train_test_split, cross_val_score\n",
    "from sklearn.cluster           import KMeans\n",
    "from sklearn.decomposition     import PCA\n",
    "from sklearn.preprocessing     import StandardScaler, OneHotEncoder, PolynomialFeatures\n",
    "from sklearn.metrics           import r2_score, mean_squared_error"
   ]
  },
  {
   "cell_type": "markdown",
   "metadata": {},
   "source": [
    "## The Data\n",
    "You can look through this repo and see a number of notebooks used to collect, combine, impute, and comb through the data that we'll use. I won't go in to detail on the data in this section"
   ]
  },
  {
   "cell_type": "code",
   "execution_count": 2,
   "metadata": {},
   "outputs": [],
   "source": [
    "# Create datapath variables to access your data source\n",
    "path_to_home = '../'\n",
    "datapath = path_to_home + 'data/'"
   ]
  },
  {
   "cell_type": "code",
   "execution_count": 3,
   "metadata": {},
   "outputs": [
    {
     "data": {
      "text/html": [
       "<div>\n",
       "<style scoped>\n",
       "    .dataframe tbody tr th:only-of-type {\n",
       "        vertical-align: middle;\n",
       "    }\n",
       "\n",
       "    .dataframe tbody tr th {\n",
       "        vertical-align: top;\n",
       "    }\n",
       "\n",
       "    .dataframe thead th {\n",
       "        text-align: right;\n",
       "    }\n",
       "</style>\n",
       "<table border=\"1\" class=\"dataframe\">\n",
       "  <thead>\n",
       "    <tr style=\"text-align: right;\">\n",
       "      <th></th>\n",
       "      <th>state_abr</th>\n",
       "      <th>state</th>\n",
       "      <th>county</th>\n",
       "      <th>confirmed_cases</th>\n",
       "      <th>deaths</th>\n",
       "      <th>latitude</th>\n",
       "      <th>longitude</th>\n",
       "      <th>fips</th>\n",
       "      <th>percapita_income</th>\n",
       "      <th>median_household_income</th>\n",
       "      <th>...</th>\n",
       "      <th>SNAP_NPA_Participation_Persons</th>\n",
       "      <th>SNAP_All_Participation_Persons</th>\n",
       "      <th>SNAP_PA_Participation_Households</th>\n",
       "      <th>SNAP_NPA_Participation_Households</th>\n",
       "      <th>SNAP_All_Participation_Households</th>\n",
       "      <th>SNAP_All_Issuance</th>\n",
       "      <th>deaths_per_100k</th>\n",
       "      <th>cases_per_100k</th>\n",
       "      <th>jobs_per_100k</th>\n",
       "      <th>av_household_earnings_per_100k</th>\n",
       "    </tr>\n",
       "  </thead>\n",
       "  <tbody>\n",
       "    <tr>\n",
       "      <th>0</th>\n",
       "      <td>WI</td>\n",
       "      <td>Wisconsin</td>\n",
       "      <td>Adams County</td>\n",
       "      <td>316.0</td>\n",
       "      <td>4.0</td>\n",
       "      <td>43.97</td>\n",
       "      <td>-89.77</td>\n",
       "      <td>55001.0</td>\n",
       "      <td>22196.0</td>\n",
       "      <td>44897.0</td>\n",
       "      <td>...</td>\n",
       "      <td>2604.0</td>\n",
       "      <td>2958.0</td>\n",
       "      <td>204.0</td>\n",
       "      <td>1462.0</td>\n",
       "      <td>1666.0</td>\n",
       "      <td>542926.0</td>\n",
       "      <td>19.782394</td>\n",
       "      <td>1562.809100</td>\n",
       "      <td>22378.832839</td>\n",
       "      <td>1.893358e+06</td>\n",
       "    </tr>\n",
       "    <tr>\n",
       "      <th>1</th>\n",
       "      <td>WI</td>\n",
       "      <td>Wisconsin</td>\n",
       "      <td>Ashland County</td>\n",
       "      <td>197.0</td>\n",
       "      <td>2.0</td>\n",
       "      <td>46.71</td>\n",
       "      <td>-90.56</td>\n",
       "      <td>55003.0</td>\n",
       "      <td>21115.0</td>\n",
       "      <td>38550.0</td>\n",
       "      <td>...</td>\n",
       "      <td>2121.0</td>\n",
       "      <td>2350.0</td>\n",
       "      <td>143.0</td>\n",
       "      <td>1019.0</td>\n",
       "      <td>1162.0</td>\n",
       "      <td>407986.0</td>\n",
       "      <td>12.851819</td>\n",
       "      <td>1265.904125</td>\n",
       "      <td>54671.636036</td>\n",
       "      <td>2.202699e+06</td>\n",
       "    </tr>\n",
       "    <tr>\n",
       "      <th>2</th>\n",
       "      <td>WI</td>\n",
       "      <td>Wisconsin</td>\n",
       "      <td>Barron County</td>\n",
       "      <td>624.0</td>\n",
       "      <td>6.0</td>\n",
       "      <td>45.42</td>\n",
       "      <td>-91.85</td>\n",
       "      <td>55005.0</td>\n",
       "      <td>23337.0</td>\n",
       "      <td>44054.0</td>\n",
       "      <td>...</td>\n",
       "      <td>4503.0</td>\n",
       "      <td>5078.0</td>\n",
       "      <td>351.0</td>\n",
       "      <td>2304.0</td>\n",
       "      <td>2655.0</td>\n",
       "      <td>868505.0</td>\n",
       "      <td>13.261427</td>\n",
       "      <td>1379.188401</td>\n",
       "      <td>53180.532225</td>\n",
       "      <td>2.631615e+06</td>\n",
       "    </tr>\n",
       "    <tr>\n",
       "      <th>3</th>\n",
       "      <td>WI</td>\n",
       "      <td>Wisconsin</td>\n",
       "      <td>Bayfield County</td>\n",
       "      <td>156.0</td>\n",
       "      <td>1.0</td>\n",
       "      <td>46.63</td>\n",
       "      <td>-91.18</td>\n",
       "      <td>55007.0</td>\n",
       "      <td>25377.0</td>\n",
       "      <td>44944.0</td>\n",
       "      <td>...</td>\n",
       "      <td>1106.0</td>\n",
       "      <td>1235.0</td>\n",
       "      <td>94.0</td>\n",
       "      <td>560.0</td>\n",
       "      <td>654.0</td>\n",
       "      <td>232296.0</td>\n",
       "      <td>6.650705</td>\n",
       "      <td>1037.509976</td>\n",
       "      <td>30047.885076</td>\n",
       "      <td>2.434617e+06</td>\n",
       "    </tr>\n",
       "    <tr>\n",
       "      <th>4</th>\n",
       "      <td>WI</td>\n",
       "      <td>Wisconsin</td>\n",
       "      <td>Brown County</td>\n",
       "      <td>11936.0</td>\n",
       "      <td>75.0</td>\n",
       "      <td>44.48</td>\n",
       "      <td>-87.99</td>\n",
       "      <td>55009.0</td>\n",
       "      <td>27787.0</td>\n",
       "      <td>53119.0</td>\n",
       "      <td>...</td>\n",
       "      <td>19848.0</td>\n",
       "      <td>22738.0</td>\n",
       "      <td>1503.0</td>\n",
       "      <td>9300.0</td>\n",
       "      <td>10803.0</td>\n",
       "      <td>4177040.0</td>\n",
       "      <td>28.350886</td>\n",
       "      <td>4511.948953</td>\n",
       "      <td>64153.140144</td>\n",
       "      <td>3.465478e+06</td>\n",
       "    </tr>\n",
       "  </tbody>\n",
       "</table>\n",
       "<p>5 rows × 39 columns</p>\n",
       "</div>"
      ],
      "text/plain": [
       "  state_abr      state           county  confirmed_cases  deaths  latitude  \\\n",
       "0        WI  Wisconsin     Adams County            316.0     4.0     43.97   \n",
       "1        WI  Wisconsin   Ashland County            197.0     2.0     46.71   \n",
       "2        WI  Wisconsin    Barron County            624.0     6.0     45.42   \n",
       "3        WI  Wisconsin  Bayfield County            156.0     1.0     46.63   \n",
       "4        WI  Wisconsin     Brown County          11936.0    75.0     44.48   \n",
       "\n",
       "   longitude     fips  percapita_income  median_household_income  ...  \\\n",
       "0     -89.77  55001.0           22196.0                  44897.0  ...   \n",
       "1     -90.56  55003.0           21115.0                  38550.0  ...   \n",
       "2     -91.85  55005.0           23337.0                  44054.0  ...   \n",
       "3     -91.18  55007.0           25377.0                  44944.0  ...   \n",
       "4     -87.99  55009.0           27787.0                  53119.0  ...   \n",
       "\n",
       "   SNAP_NPA_Participation_Persons  SNAP_All_Participation_Persons  \\\n",
       "0                          2604.0                          2958.0   \n",
       "1                          2121.0                          2350.0   \n",
       "2                          4503.0                          5078.0   \n",
       "3                          1106.0                          1235.0   \n",
       "4                         19848.0                         22738.0   \n",
       "\n",
       "   SNAP_PA_Participation_Households  SNAP_NPA_Participation_Households  \\\n",
       "0                             204.0                             1462.0   \n",
       "1                             143.0                             1019.0   \n",
       "2                             351.0                             2304.0   \n",
       "3                              94.0                              560.0   \n",
       "4                            1503.0                             9300.0   \n",
       "\n",
       "   SNAP_All_Participation_Households  SNAP_All_Issuance  deaths_per_100k  \\\n",
       "0                             1666.0           542926.0        19.782394   \n",
       "1                             1162.0           407986.0        12.851819   \n",
       "2                             2655.0           868505.0        13.261427   \n",
       "3                              654.0           232296.0         6.650705   \n",
       "4                            10803.0          4177040.0        28.350886   \n",
       "\n",
       "   cases_per_100k  jobs_per_100k av_household_earnings_per_100k  \n",
       "0     1562.809100   22378.832839                   1.893358e+06  \n",
       "1     1265.904125   54671.636036                   2.202699e+06  \n",
       "2     1379.188401   53180.532225                   2.631615e+06  \n",
       "3     1037.509976   30047.885076                   2.434617e+06  \n",
       "4     4511.948953   64153.140144                   3.465478e+06  \n",
       "\n",
       "[5 rows x 39 columns]"
      ]
     },
     "execution_count": 3,
     "metadata": {},
     "output_type": "execute_result"
    }
   ],
   "source": [
    "# Create a filename variable to easily re-use this block\n",
    "filename = 'cov_soc_eco.csv'\n",
    "\n",
    "# call the pandas read_csv() function to create a dataframe\n",
    "covid_df = pd.read_csv(datapath + filename)\n",
    "\n",
    "# print the firts five rows of your new dataframe\n",
    "covid_df.head()"
   ]
  },
  {
   "cell_type": "code",
   "execution_count": 4,
   "metadata": {},
   "outputs": [
    {
     "name": "stdout",
     "output_type": "stream",
     "text": [
      "<class 'pandas.core.frame.DataFrame'>\n",
      "RangeIndex: 3040 entries, 0 to 3039\n",
      "Data columns (total 39 columns):\n",
      "state_abr                            3040 non-null object\n",
      "state                                3040 non-null object\n",
      "county                               3040 non-null object\n",
      "confirmed_cases                      3040 non-null float64\n",
      "deaths                               3040 non-null float64\n",
      "latitude                             3040 non-null float64\n",
      "longitude                            3040 non-null float64\n",
      "fips                                 3040 non-null float64\n",
      "percapita_income                     3040 non-null float64\n",
      "median_household_income              3040 non-null float64\n",
      "median_family_income                 3040 non-null float64\n",
      "number_of_households                 3040 non-null float64\n",
      "Population                           3040 non-null float64\n",
      "pct_white                            3040 non-null float64\n",
      "pct_black                            3040 non-null float64\n",
      "pct_asian                            3040 non-null float64\n",
      "pct_hispanic                         3040 non-null float64\n",
      "pct_native_american                  3040 non-null float64\n",
      "pct_hawaiian                         3040 non-null float64\n",
      "State_Abbr                           3040 non-null object\n",
      "County_Name                          3040 non-null object\n",
      "QMB_Only                             3040 non-null float64\n",
      "QMB_plus_Full                        3040 non-null float64\n",
      "SLMB_only                            3040 non-null float64\n",
      "SLMB_plus_Full                       3040 non-null float64\n",
      "QI                                   3040 non-null float64\n",
      "Other_full                           3040 non-null float64\n",
      "Public_Total                         3040 non-null float64\n",
      "SNAP_PA_Participation_Persons        3040 non-null float64\n",
      "SNAP_NPA_Participation_Persons       3040 non-null float64\n",
      "SNAP_All_Participation_Persons       3040 non-null float64\n",
      "SNAP_PA_Participation_Households     3040 non-null float64\n",
      "SNAP_NPA_Participation_Households    3040 non-null float64\n",
      "SNAP_All_Participation_Households    3040 non-null float64\n",
      "SNAP_All_Issuance                    3040 non-null float64\n",
      "deaths_per_100k                      3040 non-null float64\n",
      "cases_per_100k                       3040 non-null float64\n",
      "jobs_per_100k                        3040 non-null float64\n",
      "av_household_earnings_per_100k       3040 non-null float64\n",
      "dtypes: float64(34), object(5)\n",
      "memory usage: 926.4+ KB\n"
     ]
    }
   ],
   "source": [
    "covid_df.info()"
   ]
  },
  {
   "cell_type": "markdown",
   "metadata": {},
   "source": [
    "Next we'll create a new column called county-state and later we can convert that to an index column."
   ]
  },
  {
   "cell_type": "code",
   "execution_count": 5,
   "metadata": {},
   "outputs": [],
   "source": [
    "covid_df['county_state'] = covid_df['county'] + \", \" + covid_df['state']"
   ]
  },
  {
   "cell_type": "code",
   "execution_count": 6,
   "metadata": {},
   "outputs": [],
   "source": [
    "covid_df.set_index('county_state', inplace=True)"
   ]
  },
  {
   "cell_type": "code",
   "execution_count": 7,
   "metadata": {},
   "outputs": [
    {
     "data": {
      "text/html": [
       "<div>\n",
       "<style scoped>\n",
       "    .dataframe tbody tr th:only-of-type {\n",
       "        vertical-align: middle;\n",
       "    }\n",
       "\n",
       "    .dataframe tbody tr th {\n",
       "        vertical-align: top;\n",
       "    }\n",
       "\n",
       "    .dataframe thead th {\n",
       "        text-align: right;\n",
       "    }\n",
       "</style>\n",
       "<table border=\"1\" class=\"dataframe\">\n",
       "  <thead>\n",
       "    <tr style=\"text-align: right;\">\n",
       "      <th></th>\n",
       "      <th>state_abr</th>\n",
       "      <th>state</th>\n",
       "      <th>county</th>\n",
       "      <th>confirmed_cases</th>\n",
       "      <th>deaths</th>\n",
       "      <th>latitude</th>\n",
       "      <th>longitude</th>\n",
       "      <th>fips</th>\n",
       "      <th>percapita_income</th>\n",
       "      <th>median_household_income</th>\n",
       "      <th>...</th>\n",
       "      <th>SNAP_NPA_Participation_Persons</th>\n",
       "      <th>SNAP_All_Participation_Persons</th>\n",
       "      <th>SNAP_PA_Participation_Households</th>\n",
       "      <th>SNAP_NPA_Participation_Households</th>\n",
       "      <th>SNAP_All_Participation_Households</th>\n",
       "      <th>SNAP_All_Issuance</th>\n",
       "      <th>deaths_per_100k</th>\n",
       "      <th>cases_per_100k</th>\n",
       "      <th>jobs_per_100k</th>\n",
       "      <th>av_household_earnings_per_100k</th>\n",
       "    </tr>\n",
       "    <tr>\n",
       "      <th>county_state</th>\n",
       "      <th></th>\n",
       "      <th></th>\n",
       "      <th></th>\n",
       "      <th></th>\n",
       "      <th></th>\n",
       "      <th></th>\n",
       "      <th></th>\n",
       "      <th></th>\n",
       "      <th></th>\n",
       "      <th></th>\n",
       "      <th></th>\n",
       "      <th></th>\n",
       "      <th></th>\n",
       "      <th></th>\n",
       "      <th></th>\n",
       "      <th></th>\n",
       "      <th></th>\n",
       "      <th></th>\n",
       "      <th></th>\n",
       "      <th></th>\n",
       "      <th></th>\n",
       "    </tr>\n",
       "  </thead>\n",
       "  <tbody>\n",
       "    <tr>\n",
       "      <th>Adams County, Wisconsin</th>\n",
       "      <td>WI</td>\n",
       "      <td>Wisconsin</td>\n",
       "      <td>Adams County</td>\n",
       "      <td>316.0</td>\n",
       "      <td>4.0</td>\n",
       "      <td>43.97</td>\n",
       "      <td>-89.77</td>\n",
       "      <td>55001.0</td>\n",
       "      <td>22196.0</td>\n",
       "      <td>44897.0</td>\n",
       "      <td>...</td>\n",
       "      <td>2604.0</td>\n",
       "      <td>2958.0</td>\n",
       "      <td>204.0</td>\n",
       "      <td>1462.0</td>\n",
       "      <td>1666.0</td>\n",
       "      <td>542926.0</td>\n",
       "      <td>19.782394</td>\n",
       "      <td>1562.809100</td>\n",
       "      <td>22378.832839</td>\n",
       "      <td>1.893358e+06</td>\n",
       "    </tr>\n",
       "    <tr>\n",
       "      <th>Ashland County, Wisconsin</th>\n",
       "      <td>WI</td>\n",
       "      <td>Wisconsin</td>\n",
       "      <td>Ashland County</td>\n",
       "      <td>197.0</td>\n",
       "      <td>2.0</td>\n",
       "      <td>46.71</td>\n",
       "      <td>-90.56</td>\n",
       "      <td>55003.0</td>\n",
       "      <td>21115.0</td>\n",
       "      <td>38550.0</td>\n",
       "      <td>...</td>\n",
       "      <td>2121.0</td>\n",
       "      <td>2350.0</td>\n",
       "      <td>143.0</td>\n",
       "      <td>1019.0</td>\n",
       "      <td>1162.0</td>\n",
       "      <td>407986.0</td>\n",
       "      <td>12.851819</td>\n",
       "      <td>1265.904125</td>\n",
       "      <td>54671.636036</td>\n",
       "      <td>2.202699e+06</td>\n",
       "    </tr>\n",
       "  </tbody>\n",
       "</table>\n",
       "<p>2 rows × 39 columns</p>\n",
       "</div>"
      ],
      "text/plain": [
       "                          state_abr      state          county  \\\n",
       "county_state                                                     \n",
       "Adams County, Wisconsin          WI  Wisconsin    Adams County   \n",
       "Ashland County, Wisconsin        WI  Wisconsin  Ashland County   \n",
       "\n",
       "                           confirmed_cases  deaths  latitude  longitude  \\\n",
       "county_state                                                              \n",
       "Adams County, Wisconsin              316.0     4.0     43.97     -89.77   \n",
       "Ashland County, Wisconsin            197.0     2.0     46.71     -90.56   \n",
       "\n",
       "                              fips  percapita_income  median_household_income  \\\n",
       "county_state                                                                    \n",
       "Adams County, Wisconsin    55001.0           22196.0                  44897.0   \n",
       "Ashland County, Wisconsin  55003.0           21115.0                  38550.0   \n",
       "\n",
       "                           ...  SNAP_NPA_Participation_Persons  \\\n",
       "county_state               ...                                   \n",
       "Adams County, Wisconsin    ...                          2604.0   \n",
       "Ashland County, Wisconsin  ...                          2121.0   \n",
       "\n",
       "                           SNAP_All_Participation_Persons  \\\n",
       "county_state                                                \n",
       "Adams County, Wisconsin                            2958.0   \n",
       "Ashland County, Wisconsin                          2350.0   \n",
       "\n",
       "                           SNAP_PA_Participation_Households  \\\n",
       "county_state                                                  \n",
       "Adams County, Wisconsin                               204.0   \n",
       "Ashland County, Wisconsin                             143.0   \n",
       "\n",
       "                           SNAP_NPA_Participation_Households  \\\n",
       "county_state                                                   \n",
       "Adams County, Wisconsin                               1462.0   \n",
       "Ashland County, Wisconsin                             1019.0   \n",
       "\n",
       "                           SNAP_All_Participation_Households  \\\n",
       "county_state                                                   \n",
       "Adams County, Wisconsin                               1666.0   \n",
       "Ashland County, Wisconsin                             1162.0   \n",
       "\n",
       "                           SNAP_All_Issuance  deaths_per_100k  cases_per_100k  \\\n",
       "county_state                                                                    \n",
       "Adams County, Wisconsin             542926.0        19.782394     1562.809100   \n",
       "Ashland County, Wisconsin           407986.0        12.851819     1265.904125   \n",
       "\n",
       "                           jobs_per_100k av_household_earnings_per_100k  \n",
       "county_state                                                             \n",
       "Adams County, Wisconsin     22378.832839                   1.893358e+06  \n",
       "Ashland County, Wisconsin   54671.636036                   2.202699e+06  \n",
       "\n",
       "[2 rows x 39 columns]"
      ]
     },
     "execution_count": 7,
     "metadata": {},
     "output_type": "execute_result"
    }
   ],
   "source": [
    "covid_df.head(2)"
   ]
  },
  {
   "cell_type": "code",
   "execution_count": 8,
   "metadata": {},
   "outputs": [
    {
     "data": {
      "text/html": [
       "<div>\n",
       "<style scoped>\n",
       "    .dataframe tbody tr th:only-of-type {\n",
       "        vertical-align: middle;\n",
       "    }\n",
       "\n",
       "    .dataframe tbody tr th {\n",
       "        vertical-align: top;\n",
       "    }\n",
       "\n",
       "    .dataframe thead th {\n",
       "        text-align: right;\n",
       "    }\n",
       "</style>\n",
       "<table border=\"1\" class=\"dataframe\">\n",
       "  <thead>\n",
       "    <tr style=\"text-align: right;\">\n",
       "      <th></th>\n",
       "      <th>state</th>\n",
       "      <th>county</th>\n",
       "      <th>confirmed_cases</th>\n",
       "      <th>deaths</th>\n",
       "      <th>latitude</th>\n",
       "      <th>longitude</th>\n",
       "      <th>fips</th>\n",
       "      <th>percapita_income</th>\n",
       "      <th>median_household_income</th>\n",
       "      <th>median_family_income</th>\n",
       "      <th>...</th>\n",
       "      <th>SD</th>\n",
       "      <th>TN</th>\n",
       "      <th>TX</th>\n",
       "      <th>UT</th>\n",
       "      <th>VA</th>\n",
       "      <th>VT</th>\n",
       "      <th>WA</th>\n",
       "      <th>WI</th>\n",
       "      <th>WV</th>\n",
       "      <th>WY</th>\n",
       "    </tr>\n",
       "    <tr>\n",
       "      <th>county_state</th>\n",
       "      <th></th>\n",
       "      <th></th>\n",
       "      <th></th>\n",
       "      <th></th>\n",
       "      <th></th>\n",
       "      <th></th>\n",
       "      <th></th>\n",
       "      <th></th>\n",
       "      <th></th>\n",
       "      <th></th>\n",
       "      <th></th>\n",
       "      <th></th>\n",
       "      <th></th>\n",
       "      <th></th>\n",
       "      <th></th>\n",
       "      <th></th>\n",
       "      <th></th>\n",
       "      <th></th>\n",
       "      <th></th>\n",
       "      <th></th>\n",
       "      <th></th>\n",
       "    </tr>\n",
       "  </thead>\n",
       "  <tbody>\n",
       "    <tr>\n",
       "      <th>Adams County, Wisconsin</th>\n",
       "      <td>Wisconsin</td>\n",
       "      <td>Adams County</td>\n",
       "      <td>316.0</td>\n",
       "      <td>4.0</td>\n",
       "      <td>43.97</td>\n",
       "      <td>-89.77</td>\n",
       "      <td>55001.0</td>\n",
       "      <td>22196.0</td>\n",
       "      <td>44897.0</td>\n",
       "      <td>51949.0</td>\n",
       "      <td>...</td>\n",
       "      <td>0</td>\n",
       "      <td>0</td>\n",
       "      <td>0</td>\n",
       "      <td>0</td>\n",
       "      <td>0</td>\n",
       "      <td>0</td>\n",
       "      <td>0</td>\n",
       "      <td>1</td>\n",
       "      <td>0</td>\n",
       "      <td>0</td>\n",
       "    </tr>\n",
       "    <tr>\n",
       "      <th>Ashland County, Wisconsin</th>\n",
       "      <td>Wisconsin</td>\n",
       "      <td>Ashland County</td>\n",
       "      <td>197.0</td>\n",
       "      <td>2.0</td>\n",
       "      <td>46.71</td>\n",
       "      <td>-90.56</td>\n",
       "      <td>55003.0</td>\n",
       "      <td>21115.0</td>\n",
       "      <td>38550.0</td>\n",
       "      <td>47587.0</td>\n",
       "      <td>...</td>\n",
       "      <td>0</td>\n",
       "      <td>0</td>\n",
       "      <td>0</td>\n",
       "      <td>0</td>\n",
       "      <td>0</td>\n",
       "      <td>0</td>\n",
       "      <td>0</td>\n",
       "      <td>1</td>\n",
       "      <td>0</td>\n",
       "      <td>0</td>\n",
       "    </tr>\n",
       "    <tr>\n",
       "      <th>Barron County, Wisconsin</th>\n",
       "      <td>Wisconsin</td>\n",
       "      <td>Barron County</td>\n",
       "      <td>624.0</td>\n",
       "      <td>6.0</td>\n",
       "      <td>45.42</td>\n",
       "      <td>-91.85</td>\n",
       "      <td>55005.0</td>\n",
       "      <td>23337.0</td>\n",
       "      <td>44054.0</td>\n",
       "      <td>54827.0</td>\n",
       "      <td>...</td>\n",
       "      <td>0</td>\n",
       "      <td>0</td>\n",
       "      <td>0</td>\n",
       "      <td>0</td>\n",
       "      <td>0</td>\n",
       "      <td>0</td>\n",
       "      <td>0</td>\n",
       "      <td>1</td>\n",
       "      <td>0</td>\n",
       "      <td>0</td>\n",
       "    </tr>\n",
       "    <tr>\n",
       "      <th>Bayfield County, Wisconsin</th>\n",
       "      <td>Wisconsin</td>\n",
       "      <td>Bayfield County</td>\n",
       "      <td>156.0</td>\n",
       "      <td>1.0</td>\n",
       "      <td>46.63</td>\n",
       "      <td>-91.18</td>\n",
       "      <td>55007.0</td>\n",
       "      <td>25377.0</td>\n",
       "      <td>44944.0</td>\n",
       "      <td>55654.0</td>\n",
       "      <td>...</td>\n",
       "      <td>0</td>\n",
       "      <td>0</td>\n",
       "      <td>0</td>\n",
       "      <td>0</td>\n",
       "      <td>0</td>\n",
       "      <td>0</td>\n",
       "      <td>0</td>\n",
       "      <td>1</td>\n",
       "      <td>0</td>\n",
       "      <td>0</td>\n",
       "    </tr>\n",
       "    <tr>\n",
       "      <th>Brown County, Wisconsin</th>\n",
       "      <td>Wisconsin</td>\n",
       "      <td>Brown County</td>\n",
       "      <td>11936.0</td>\n",
       "      <td>75.0</td>\n",
       "      <td>44.48</td>\n",
       "      <td>-87.99</td>\n",
       "      <td>55009.0</td>\n",
       "      <td>27787.0</td>\n",
       "      <td>53119.0</td>\n",
       "      <td>67159.0</td>\n",
       "      <td>...</td>\n",
       "      <td>0</td>\n",
       "      <td>0</td>\n",
       "      <td>0</td>\n",
       "      <td>0</td>\n",
       "      <td>0</td>\n",
       "      <td>0</td>\n",
       "      <td>0</td>\n",
       "      <td>1</td>\n",
       "      <td>0</td>\n",
       "      <td>0</td>\n",
       "    </tr>\n",
       "  </tbody>\n",
       "</table>\n",
       "<p>5 rows × 89 columns</p>\n",
       "</div>"
      ],
      "text/plain": [
       "                                state           county  confirmed_cases  \\\n",
       "county_state                                                              \n",
       "Adams County, Wisconsin     Wisconsin     Adams County            316.0   \n",
       "Ashland County, Wisconsin   Wisconsin   Ashland County            197.0   \n",
       "Barron County, Wisconsin    Wisconsin    Barron County            624.0   \n",
       "Bayfield County, Wisconsin  Wisconsin  Bayfield County            156.0   \n",
       "Brown County, Wisconsin     Wisconsin     Brown County          11936.0   \n",
       "\n",
       "                            deaths  latitude  longitude     fips  \\\n",
       "county_state                                                       \n",
       "Adams County, Wisconsin        4.0     43.97     -89.77  55001.0   \n",
       "Ashland County, Wisconsin      2.0     46.71     -90.56  55003.0   \n",
       "Barron County, Wisconsin       6.0     45.42     -91.85  55005.0   \n",
       "Bayfield County, Wisconsin     1.0     46.63     -91.18  55007.0   \n",
       "Brown County, Wisconsin       75.0     44.48     -87.99  55009.0   \n",
       "\n",
       "                            percapita_income  median_household_income  \\\n",
       "county_state                                                            \n",
       "Adams County, Wisconsin              22196.0                  44897.0   \n",
       "Ashland County, Wisconsin            21115.0                  38550.0   \n",
       "Barron County, Wisconsin             23337.0                  44054.0   \n",
       "Bayfield County, Wisconsin           25377.0                  44944.0   \n",
       "Brown County, Wisconsin              27787.0                  53119.0   \n",
       "\n",
       "                            median_family_income  ...  SD  TN  TX  UT  VA  VT  \\\n",
       "county_state                                      ...                           \n",
       "Adams County, Wisconsin                  51949.0  ...   0   0   0   0   0   0   \n",
       "Ashland County, Wisconsin                47587.0  ...   0   0   0   0   0   0   \n",
       "Barron County, Wisconsin                 54827.0  ...   0   0   0   0   0   0   \n",
       "Bayfield County, Wisconsin               55654.0  ...   0   0   0   0   0   0   \n",
       "Brown County, Wisconsin                  67159.0  ...   0   0   0   0   0   0   \n",
       "\n",
       "                            WA  WI WV WY  \n",
       "county_state                              \n",
       "Adams County, Wisconsin      0   1  0  0  \n",
       "Ashland County, Wisconsin    0   1  0  0  \n",
       "Barron County, Wisconsin     0   1  0  0  \n",
       "Bayfield County, Wisconsin   0   1  0  0  \n",
       "Brown County, Wisconsin      0   1  0  0  \n",
       "\n",
       "[5 rows x 89 columns]"
      ]
     },
     "execution_count": 8,
     "metadata": {},
     "output_type": "execute_result"
    }
   ],
   "source": [
    "covid_df = pd.get_dummies(columns=['state_abr'], data=covid_df, prefix=\"\", prefix_sep=\"\")\n",
    "covid_df.head()"
   ]
  },
  {
   "cell_type": "markdown",
   "metadata": {},
   "source": [
    "We can now use the index column to make sure that there are no duplicated rows by calling the value_counts function on the index. If any of the top three values are not a '1', then we know we have a duplicate. As you see below, there are no duplicates."
   ]
  },
  {
   "cell_type": "code",
   "execution_count": 9,
   "metadata": {},
   "outputs": [
    {
     "data": {
      "text/plain": [
       "Dunklin County, Missouri     1\n",
       "Bossier Parish, Louisiana    1\n",
       "Gibson County, Indiana       1\n",
       "Name: county_state, dtype: int64"
      ]
     },
     "execution_count": 9,
     "metadata": {},
     "output_type": "execute_result"
    }
   ],
   "source": [
    "covid_df.index.value_counts(ascending=False).head(3)"
   ]
  },
  {
   "cell_type": "markdown",
   "metadata": {},
   "source": [
    "## Quick and Dirty - Linear Regression Model\n",
    "In a minute, we'll do some feature engineering and really build out this model with socio-economic and population data features, but for right now, we can pop the features that we have in to a fast linear regression model to get a sort of baseline look at the pure data."
   ]
  },
  {
   "cell_type": "code",
   "execution_count": 10,
   "metadata": {},
   "outputs": [],
   "source": [
    "# Instantiate a model instance\n",
    "lr = LinearRegression()"
   ]
  },
  {
   "cell_type": "code",
   "execution_count": 11,
   "metadata": {},
   "outputs": [
    {
     "name": "stdout",
     "output_type": "stream",
     "text": [
      "state-->object\n",
      "county-->object\n",
      "adding confirmed_cases\n",
      "adding deaths\n",
      "adding latitude\n",
      "adding longitude\n",
      "adding fips\n",
      "adding percapita_income\n",
      "adding median_household_income\n",
      "adding median_family_income\n",
      "adding number_of_households\n",
      "adding Population\n",
      "adding pct_white\n",
      "adding pct_black\n",
      "adding pct_asian\n",
      "adding pct_hispanic\n",
      "adding pct_native_american\n",
      "adding pct_hawaiian\n",
      "State_Abbr-->object\n",
      "County_Name-->object\n",
      "adding QMB_Only\n",
      "adding QMB_plus_Full\n",
      "adding SLMB_only\n",
      "adding SLMB_plus_Full\n",
      "adding QI\n",
      "adding Other_full\n",
      "adding Public_Total\n",
      "adding SNAP_PA_Participation_Persons\n",
      "adding SNAP_NPA_Participation_Persons\n",
      "adding SNAP_All_Participation_Persons\n",
      "adding SNAP_PA_Participation_Households\n",
      "adding SNAP_NPA_Participation_Households\n",
      "adding SNAP_All_Participation_Households\n",
      "adding SNAP_All_Issuance\n",
      "adding deaths_per_100k\n",
      "adding cases_per_100k\n",
      "adding jobs_per_100k\n",
      "adding av_household_earnings_per_100k\n",
      "adding AK\n",
      "adding AL\n",
      "adding AR\n",
      "adding AZ\n",
      "adding CA\n",
      "adding CO\n",
      "adding CT\n",
      "adding DC\n",
      "adding DE\n",
      "adding FL\n",
      "adding GA\n",
      "adding HI\n",
      "adding IA\n",
      "adding ID\n",
      "adding IL\n",
      "adding IN\n",
      "adding KS\n",
      "adding KY\n",
      "adding LA\n",
      "adding MA\n",
      "adding MD\n",
      "adding ME\n",
      "adding MI\n",
      "adding MN\n",
      "adding MO\n",
      "adding MS\n",
      "adding MT\n",
      "adding NC\n",
      "adding ND\n",
      "adding NE\n",
      "adding NH\n",
      "adding NJ\n",
      "adding NM\n",
      "adding NV\n",
      "adding NY\n",
      "adding OH\n",
      "adding OK\n",
      "adding OR\n",
      "adding PA\n",
      "adding RI\n",
      "adding SC\n",
      "adding SD\n",
      "adding TN\n",
      "adding TX\n",
      "adding UT\n",
      "adding VA\n",
      "adding VT\n",
      "adding WA\n",
      "adding WI\n",
      "adding WV\n",
      "adding WY\n"
     ]
    }
   ],
   "source": [
    "# Create a features list containing only the numerical features\n",
    "\n",
    "cols = dict(covid_df.dtypes)\n",
    "features = []\n",
    "for col in cols:\n",
    "    if \"object\" in str(cols[col]):\n",
    "        print(col + \"-->\" + str(cols[col]))\n",
    "    else:\n",
    "        features.append(col)\n",
    "        print('adding ' + col)\n",
    "    \n",
    "\n"
   ]
  },
  {
   "cell_type": "code",
   "execution_count": 12,
   "metadata": {},
   "outputs": [
    {
     "data": {
      "text/plain": [
       "85"
      ]
     },
     "execution_count": 12,
     "metadata": {},
     "output_type": "execute_result"
    }
   ],
   "source": [
    "len(features)"
   ]
  },
  {
   "cell_type": "code",
   "execution_count": 13,
   "metadata": {},
   "outputs": [],
   "source": [
    "# export this dataset for use in the KMeans model:\n",
    "\n",
    "covid_df[features].to_csv(datapath + '85_cols.csv')"
   ]
  },
  {
   "cell_type": "markdown",
   "metadata": {},
   "source": [
    "We created 85 features, though we really shouldn't use more than 50-54 features on a Linear Regression Model given that we are only working with 3000 rows of data."
   ]
  },
  {
   "cell_type": "code",
   "execution_count": 14,
   "metadata": {},
   "outputs": [],
   "source": [
    "# Create our X matrix and use the deaths column as our y label\n",
    "X = covid_df[features].drop(columns='deaths')\n",
    "y = covid_df['deaths']"
   ]
  },
  {
   "cell_type": "code",
   "execution_count": 15,
   "metadata": {},
   "outputs": [],
   "source": [
    "# Split our data into a testing set and a training set\n",
    "X_train, X_test, y_train, y_test = train_test_split(X, y, \n",
    "                                                   test_size=.2,\n",
    "                                                   random_state=42)"
   ]
  },
  {
   "cell_type": "code",
   "execution_count": 16,
   "metadata": {},
   "outputs": [
    {
     "data": {
      "text/plain": [
       "LinearRegression(copy_X=True, fit_intercept=True, n_jobs=None, normalize=False)"
      ]
     },
     "execution_count": 16,
     "metadata": {},
     "output_type": "execute_result"
    }
   ],
   "source": [
    "lr.fit(X_train, y_train)"
   ]
  },
  {
   "cell_type": "code",
   "execution_count": 17,
   "metadata": {},
   "outputs": [
    {
     "data": {
      "text/plain": [
       "0.9312581669865041"
      ]
     },
     "execution_count": 17,
     "metadata": {},
     "output_type": "execute_result"
    }
   ],
   "source": [
    "lr.score(X_train, y_train)"
   ]
  },
  {
   "cell_type": "code",
   "execution_count": 18,
   "metadata": {},
   "outputs": [
    {
     "data": {
      "text/plain": [
       "0.9000642298562622"
      ]
     },
     "execution_count": 18,
     "metadata": {},
     "output_type": "execute_result"
    }
   ],
   "source": [
    "lr.score(X_test, y_test)"
   ]
  },
  {
   "cell_type": "markdown",
   "metadata": {},
   "source": [
    "Our model has an R2 score of 90.01%, which is pretty good and only slightly overfit. "
   ]
  },
  {
   "cell_type": "markdown",
   "metadata": {},
   "source": [
    "## Quick and Dirty - Gradient Boosting Regressor"
   ]
  },
  {
   "cell_type": "code",
   "execution_count": 19,
   "metadata": {},
   "outputs": [],
   "source": [
    "gb = GradientBoostingRegressor()"
   ]
  },
  {
   "cell_type": "code",
   "execution_count": 20,
   "metadata": {},
   "outputs": [
    {
     "data": {
      "text/plain": [
       "GradientBoostingRegressor(alpha=0.9, ccp_alpha=0.0, criterion='friedman_mse',\n",
       "                          init=None, learning_rate=0.1, loss='ls', max_depth=3,\n",
       "                          max_features=None, max_leaf_nodes=None,\n",
       "                          min_impurity_decrease=0.0, min_impurity_split=None,\n",
       "                          min_samples_leaf=1, min_samples_split=2,\n",
       "                          min_weight_fraction_leaf=0.0, n_estimators=100,\n",
       "                          n_iter_no_change=None, presort='deprecated',\n",
       "                          random_state=None, subsample=1.0, tol=0.0001,\n",
       "                          validation_fraction=0.1, verbose=0, warm_start=False)"
      ]
     },
     "execution_count": 20,
     "metadata": {},
     "output_type": "execute_result"
    }
   ],
   "source": [
    "gb.fit(X_train, y_train)"
   ]
  },
  {
   "cell_type": "code",
   "execution_count": 21,
   "metadata": {},
   "outputs": [
    {
     "name": "stdout",
     "output_type": "stream",
     "text": [
      "Training:  0.9986799801006553\n",
      "Testing :  0.9031076545715245\n"
     ]
    }
   ],
   "source": [
    "print('Training: ', gb.score(X_train, y_train))\n",
    "print('Testing : ', gb.score(X_test, y_test))"
   ]
  },
  {
   "cell_type": "markdown",
   "metadata": {},
   "source": [
    "## An overfit data model\n",
    "When splitting the feature set, we should have split off the confirmed cases data too, as well as the deaths per 100k and the cases per 100k; not just the target data of deaths, as these are direct linear indicators that are not influences on the target column. Also we'll want to predict these each later."
   ]
  },
  {
   "cell_type": "code",
   "execution_count": 22,
   "metadata": {},
   "outputs": [],
   "source": [
    "features.remove('deaths')\n",
    "features.remove('confirmed_cases')\n",
    "features.remove('deaths_per_100k')\n",
    "features.remove('cases_per_100k')\n",
    "\n",
    "targets_list = ['deaths', 'confirmed_cases', 'deaths_per_100k', 'cases_per_100k']"
   ]
  },
  {
   "cell_type": "code",
   "execution_count": 23,
   "metadata": {},
   "outputs": [],
   "source": [
    "def show_rmse(model_1, model_2):\n",
    "    '''\n",
    "    returns 1 for error, 0 for complete\n",
    "            prints the Root Mean Squared error of one or two models\n",
    "    '''\n",
    "    try:    \n",
    "        print('Root Mean Squared Error of the LR: ',(mean_squared_error(y_test, model_1.predict(X_test)))**(1/2))\n",
    "        print('Root Mean Squared Error of the GB: ',(mean_squared_error(y_test, model_2.predict(X_test)))**(1/2))\n",
    "        return 0\n",
    "    except:\n",
    "        print('An exception occurred')\n",
    "        return 1"
   ]
  },
  {
   "cell_type": "code",
   "execution_count": 24,
   "metadata": {},
   "outputs": [],
   "source": [
    "def i_regress(dataframe, features, target, test_size=0.2, n_estimators=100):\n",
    "    '''\n",
    "    returns two models, a LinearRegression() and GradientBoostingRegressor(),\n",
    "            in that order, and also prints out the r2 scores of each\n",
    "    dataframe  is the dataframe being used for the testing\n",
    "    features   is a list of numeric data\n",
    "    target     is a string, the column name from the dataframe of the target\n",
    "    test_size  is a float between 0.0 and 1.0 exclusive used\n",
    "               in the train_test_split() function\n",
    "    n_estimators is an int used in the GradientBoostingRegressor()\n",
    "    '''\n",
    "    \n",
    "    # import librarires if exporting this function to a useful library\n",
    "    \n",
    "    lr = LinearRegression()\n",
    "    gb = GradientBoostingRegressor(n_estimators=n_estimators)\n",
    "    \n",
    "    X = dataframe[features]\n",
    "    y = dataframe[target]\n",
    "    \n",
    "    X_train, X_test, y_train, y_test = train_test_split(X, y, test_size=test_size,\n",
    "                                                       random_state=42)\n",
    "    lr.fit(X_train, y_train)\n",
    "    gb.fit(X_train, y_train)\n",
    "    \n",
    "    print(f'Models successfully built: Target = \"{target}\"')\n",
    "    print('*'*30)\n",
    "    print('Training Scores: ')\n",
    "    print('LinearRegression         : ', lr.score(X_train, y_train))\n",
    "    print('GradientBoostingRegressor: ', gb.score(X_train, y_train))    \n",
    "    print('*'*30)\n",
    "    print('Testing Scores: ')\n",
    "    print('LinearRegression         : ', lr.score(X_test, y_test))\n",
    "    print('GradientBoostingRegressor: ', gb.score(X_test, y_test))\n",
    "    \n",
    "    print('*'*30)\n",
    "    show_rmse(lr, gb)\n",
    "    \n",
    "    return lr, gb"
   ]
  },
  {
   "cell_type": "code",
   "execution_count": 25,
   "metadata": {},
   "outputs": [
    {
     "name": "stdout",
     "output_type": "stream",
     "text": [
      "Models successfully built: Target = \"deaths\"\n",
      "******************************\n",
      "Training Scores: \n",
      "LinearRegression         :  0.9037050545292863\n",
      "GradientBoostingRegressor:  0.9994077384723852\n",
      "******************************\n",
      "Testing Scores: \n",
      "LinearRegression         :  0.8770981806289302\n",
      "GradientBoostingRegressor:  0.9220538995750452\n",
      "******************************\n",
      "An exception occurred\n"
     ]
    }
   ],
   "source": [
    "lr_2, gb_2 = i_regress(covid_df, features, target='deaths', test_size=0.3, n_estimators=500)"
   ]
  },
  {
   "cell_type": "code",
   "execution_count": 26,
   "metadata": {},
   "outputs": [
    {
     "name": "stdout",
     "output_type": "stream",
     "text": [
      "Models successfully built:\n",
      "******************************\n",
      "Training Scores: \n",
      "LinearRegression         :  0.9037050545292863\n",
      "GradientBoostingRegressor:  0.9994077384723852\n",
      "******************************\n",
      "Testing Scores: \n",
      "LinearRegression         :  0.8770981806289302\n",
      "GradientBoostingRegressor:  0.9216472488016257\n"
     ]
    }
   ],
   "source": [
    "lr_3 = LinearRegression()\n",
    "gb_3 = GradientBoostingRegressor(n_estimators=500)\n",
    "\n",
    "X = covid_df[features]\n",
    "y = covid_df['deaths']\n",
    "X_train, X_test, y_train, y_test = train_test_split(X, y, test_size=.3,\n",
    "                                                   random_state=42)\n",
    "\n",
    "lr_3.fit(X_train, y_train)\n",
    "gb_3.fit(X_train, y_train)\n",
    "\n",
    "print('Models successfully built:')\n",
    "print('*'*30)\n",
    "print('Training Scores: ')\n",
    "print('LinearRegression         : ', lr_3.score(X_train, y_train))\n",
    "print('GradientBoostingRegressor: ', gb_3.score(X_train, y_train))    \n",
    "print('*'*30)\n",
    "print('Testing Scores: ')\n",
    "print('LinearRegression         : ', lr_3.score(X_test, y_test))\n",
    "print('GradientBoostingRegressor: ', gb_3.score(X_test, y_test))"
   ]
  },
  {
   "cell_type": "code",
   "execution_count": 27,
   "metadata": {},
   "outputs": [
    {
     "data": {
      "text/plain": [
       "128.6206087725723"
      ]
     },
     "execution_count": 27,
     "metadata": {},
     "output_type": "execute_result"
    }
   ],
   "source": [
    "(mean_squared_error(y_test, lr_3.predict(X_test)))**(1/2)"
   ]
  },
  {
   "cell_type": "markdown",
   "metadata": {},
   "source": [
    "## Too good to be true?\n",
    "Above, we see r2 scores over 90%. However, we are only able to predict the deaths per county with a root mean squared error of 107-129, which is nowhere near perfect. The majority of counties have seen fewer than 100 deaths.\n",
    "\n",
    "Here's a historgram of the number of deaths per county:"
   ]
  },
  {
   "cell_type": "code",
   "execution_count": 28,
   "metadata": {},
   "outputs": [],
   "source": [
    "def graph_words(word_color):\n",
    "    '''\n",
    "    establishes the word color for a graph to more easily transfer to ppt slides\n",
    "    '''\n",
    "    #import matplotlib.pyplot as plt\n",
    "    return plt.rcParams.update({'text.color' : word_color,\n",
    "                     'axes.labelcolor' : word_color, 'xtick.color' : word_color,\n",
    "                    'ytick.color' : word_color})"
   ]
  },
  {
   "cell_type": "code",
   "execution_count": 29,
   "metadata": {},
   "outputs": [
    {
     "data": {
      "image/png": "[encoded data removed]",
      "text/plain": [
       "<Figure size 432x288 with 1 Axes>"
      ]
     },
     "metadata": {
      "needs_background": "light"
     },
     "output_type": "display_data"
    }
   ],
   "source": [
    "plt.hist(covid_df['deaths'], bins=50, range=(0, 200));"
   ]
  },
  {
   "cell_type": "markdown",
   "metadata": {},
   "source": [
    "What do the models look like when we predict the number of confirmed cases?"
   ]
  },
  {
   "cell_type": "code",
   "execution_count": 30,
   "metadata": {},
   "outputs": [
    {
     "name": "stdout",
     "output_type": "stream",
     "text": [
      "Models successfully built: Target = \"confirmed_cases\"\n",
      "******************************\n",
      "Training Scores: \n",
      "LinearRegression         :  0.9548984148760504\n",
      "GradientBoostingRegressor:  0.9994257137247211\n",
      "******************************\n",
      "Testing Scores: \n",
      "LinearRegression         :  0.9588081953100046\n",
      "GradientBoostingRegressor:  0.7167156105608934\n",
      "******************************\n",
      "Root Mean Squared Error of the LR:  10199.387086233695\n",
      "Root Mean Squared Error of the GB:  7463.312574589547\n"
     ]
    }
   ],
   "source": [
    "lr_4, gb_4 = i_regress(covid_df, features, target='confirmed_cases', test_size=.3, n_estimators=500)"
   ]
  },
  {
   "cell_type": "markdown",
   "metadata": {},
   "source": [
    "The Gradient Boosting Regressor is pretty overfit, but the linear regression model seems to be right on. Of course, I am skeptical whenever I see a high score, even in an r2 score.\n",
    "\n",
    "Further, the RMSE for the LR model is over 10K, meaning it could be off by 10K deaths per county. Even with an RMSE of close to 8K for the Gradient Boosting model, we can see in the following histogram that this is not the most trustworthy prediction:"
   ]
  },
  {
   "cell_type": "code",
   "execution_count": 31,
   "metadata": {},
   "outputs": [
    {
     "data": {
      "text/plain": [
       "Text(0.5, 1.0, 'Histogram of Cases per County (up to 20K)')"
      ]
     },
     "execution_count": 31,
     "metadata": {},
     "output_type": "execute_result"
    },
    {
     "data": {
      "image/png": "[encoded data removed]",
      "text/plain": [
       "<Figure size 432x288 with 1 Axes>"
      ]
     },
     "metadata": {
      "needs_background": "light"
     },
     "output_type": "display_data"
    }
   ],
   "source": [
    "graph_words('black')\n",
    "plt.hist(covid_df['confirmed_cases'], bins=25, range=(0, 20_000));\n",
    "plt.title('Histogram of Cases per County (up to 20K)')"
   ]
  },
  {
   "cell_type": "markdown",
   "metadata": {},
   "source": [
    "We'll try to tweak this model before moving to the next target"
   ]
  },
  {
   "cell_type": "code",
   "execution_count": 32,
   "metadata": {},
   "outputs": [
    {
     "name": "stdout",
     "output_type": "stream",
     "text": [
      "Models successfully built: Target = \"confirmed_cases\"\n",
      "******************************\n",
      "Training Scores: \n",
      "LinearRegression         :  0.9597100967857539\n",
      "GradientBoostingRegressor:  0.999695111611242\n",
      "******************************\n",
      "Testing Scores: \n",
      "LinearRegression         :  0.6979116052489728\n",
      "GradientBoostingRegressor:  0.8312489350398764\n",
      "******************************\n",
      "Root Mean Squared Error of the LR:  9620.197281135841\n",
      "Root Mean Squared Error of the GB:  8322.362097584723\n"
     ]
    }
   ],
   "source": [
    "lr_5, gb_5 = i_regress(covid_df, features, target='confirmed_cases', test_size=.5, n_estimators=500)"
   ]
  },
  {
   "cell_type": "markdown",
   "metadata": {},
   "source": [
    "Growing the test size, that is, training the model on less data and allowing it to try and make predictions on more data, seems to help our overfitting problem a little on the Gradient Boosting Model but actually worsens it considerably in the Linear Regression Model. Still, the RMSE is about the same on each, getting slightly better on the LR and slightly worse on the GB.\n",
    "\n",
    "For this next run we'll lower the number of estimators in the gradient boosting regressor"
   ]
  },
  {
   "cell_type": "code",
   "execution_count": 33,
   "metadata": {},
   "outputs": [
    {
     "name": "stdout",
     "output_type": "stream",
     "text": [
      "Models successfully built: Target = \"confirmed_cases\"\n",
      "******************************\n",
      "Training Scores: \n",
      "LinearRegression         :  0.9597100967857539\n",
      "GradientBoostingRegressor:  0.9905169271058933\n",
      "******************************\n",
      "Testing Scores: \n",
      "LinearRegression         :  0.6979116052489728\n",
      "GradientBoostingRegressor:  0.8370152387853718\n",
      "******************************\n",
      "Root Mean Squared Error of the LR:  9620.197281135841\n",
      "Root Mean Squared Error of the GB:  8638.06416999905\n"
     ]
    }
   ],
   "source": [
    "lr_6, gb_6 = i_regress(covid_df, features, target='confirmed_cases', test_size=.5, n_estimators=50)"
   ]
  },
  {
   "cell_type": "markdown",
   "metadata": {},
   "source": [
    "That didn't help, it slightly increased the overfitting, actually. This time I'll try to increase the 'test_size' even more, and then I'll move on to feature engineering and tailoring the features a bit."
   ]
  },
  {
   "cell_type": "code",
   "execution_count": 34,
   "metadata": {},
   "outputs": [
    {
     "name": "stdout",
     "output_type": "stream",
     "text": [
      "Models successfully built: Target = \"confirmed_cases\"\n",
      "******************************\n",
      "Training Scores: \n",
      "LinearRegression         :  0.9651679110441103\n",
      "GradientBoostingRegressor:  0.9912984947472615\n",
      "******************************\n",
      "Testing Scores: \n",
      "LinearRegression         :  0.7216786966435891\n",
      "GradientBoostingRegressor:  0.7570555204652214\n",
      "******************************\n",
      "Root Mean Squared Error of the LR:  10266.929907095175\n",
      "Root Mean Squared Error of the GB:  7675.26065259916\n"
     ]
    }
   ],
   "source": [
    "lr_7, gb_7 = i_regress(covid_df, features, target='confirmed_cases', test_size=.6, n_estimators=50)"
   ]
  },
  {
   "cell_type": "markdown",
   "metadata": {},
   "source": [
    "## Percapita predictions\n"
   ]
  },
  {
   "cell_type": "code",
   "execution_count": 35,
   "metadata": {},
   "outputs": [
    {
     "name": "stdout",
     "output_type": "stream",
     "text": [
      "Models successfully built: Target = \"deaths_per_100k\"\n",
      "******************************\n",
      "Training Scores: \n",
      "LinearRegression         :  0.48856500389276997\n",
      "GradientBoostingRegressor:  0.6826756704587726\n",
      "******************************\n",
      "Testing Scores: \n",
      "LinearRegression         :  0.38867521633326696\n",
      "GradientBoostingRegressor:  0.4134100830532744\n",
      "******************************\n",
      "Root Mean Squared Error of the LR:  363.01088306265484\n",
      "Root Mean Squared Error of the GB:  359.1653943599922\n"
     ]
    }
   ],
   "source": [
    "lr_8, gb_8 = i_regress(covid_df, features, target='deaths_per_100k')\n",
    "    "
   ]
  },
  {
   "cell_type": "code",
   "execution_count": 36,
   "metadata": {},
   "outputs": [
    {
     "name": "stdout",
     "output_type": "stream",
     "text": [
      "Models successfully built: Target = \"cases_per_100k\"\n",
      "******************************\n",
      "Training Scores: \n",
      "LinearRegression         :  0.5438158522477373\n",
      "GradientBoostingRegressor:  0.758344982228098\n",
      "******************************\n",
      "Testing Scores: \n",
      "LinearRegression         :  0.48454067165469894\n",
      "GradientBoostingRegressor:  0.506965351009109\n",
      "******************************\n",
      "Root Mean Squared Error of the LR:  2378.62509275863\n",
      "Root Mean Squared Error of the GB:  2384.1041936740085\n"
     ]
    }
   ],
   "source": [
    "lr_9, gb_9 = i_regress(covid_df, features, target='cases_per_100k')"
   ]
  },
  {
   "cell_type": "code",
   "execution_count": 37,
   "metadata": {},
   "outputs": [
    {
     "data": {
      "image/png": "[encoded data removed]",
      "text/plain": [
       "<Figure size 432x288 with 1 Axes>"
      ]
     },
     "metadata": {
      "needs_background": "light"
     },
     "output_type": "display_data"
    }
   ],
   "source": [
    "graph_words('black')\n",
    "plt.hist(covid_df['cases_per_100k'], bins=50, range=(0, 10_000));\n",
    "plt.title('Histogram of Cases per 100k in each county');"
   ]
  },
  {
   "cell_type": "markdown",
   "metadata": {},
   "source": [
    "As we can see, the predictions get even worse when we try to run them for predicting the deaths or cases percapita in a county. This is likely because most of our features are raw numbers and not converted to percentages per capita, thus the model is understanding each as a quantity and wants to predict a total as opposed to a percapita formula."
   ]
  },
  {
   "cell_type": "markdown",
   "metadata": {},
   "source": [
    "## MORE DATA!! Feature Engineering"
   ]
  },
  {
   "cell_type": "markdown",
   "metadata": {},
   "source": [
    "Now that we have created our starting point, let's identify the features that have the strongest correlations to the target columns, and engineer columns that show the percapita effects of each input. In other words, what things are most likely to indicate a higher number of deaths or confirmed cases of covid, and also what does each feature look like from a percapita standpoint?"
   ]
  },
  {
   "cell_type": "code",
   "execution_count": 38,
   "metadata": {},
   "outputs": [
    {
     "data": {
      "text/plain": [
       "81"
      ]
     },
     "execution_count": 38,
     "metadata": {},
     "output_type": "execute_result"
    }
   ],
   "source": [
    "# Receate a features list containing only the numerical features\n",
    "\n",
    "cols = dict(covid_df.dtypes)\n",
    "features = []\n",
    "for col in cols:\n",
    "    if \"object\" not in str(cols[col]) and col not in targets_list:\n",
    "        features.append(col)\n",
    "len(features)"
   ]
  },
  {
   "cell_type": "code",
   "execution_count": 39,
   "metadata": {},
   "outputs": [
    {
     "data": {
      "text/plain": [
       "51"
      ]
     },
     "execution_count": 39,
     "metadata": {},
     "output_type": "execute_result"
    }
   ],
   "source": [
    "# Create a list of the state columns and seperate them from the features list\n",
    "states = []\n",
    "for feat in features:\n",
    "    if len(feat)==2 and 'Q' not in feat:\n",
    "        states.append(feat)\n",
    "for state in states:\n",
    "    features.remove(state)\n",
    "len(states)"
   ]
  },
  {
   "cell_type": "code",
   "execution_count": 40,
   "metadata": {},
   "outputs": [
    {
     "data": {
      "text/plain": [
       "30"
      ]
     },
     "execution_count": 40,
     "metadata": {},
     "output_type": "execute_result"
    }
   ],
   "source": [
    "len(features)"
   ]
  },
  {
   "cell_type": "code",
   "execution_count": 41,
   "metadata": {},
   "outputs": [
    {
     "data": {
      "text/plain": [
       "27"
      ]
     },
     "execution_count": 41,
     "metadata": {},
     "output_type": "execute_result"
    }
   ],
   "source": [
    "# create a locations list\n",
    "locations = ['latitude', 'longitude', 'fips']\n",
    "\n",
    "for loc in locations:\n",
    "    features.remove(loc)\n",
    "len(features)"
   ]
  },
  {
   "cell_type": "code",
   "execution_count": 42,
   "metadata": {},
   "outputs": [
    {
     "data": {
      "text/plain": [
       "['percapita_income',\n",
       " 'median_household_income',\n",
       " 'median_family_income',\n",
       " 'number_of_households',\n",
       " 'Population',\n",
       " 'pct_white',\n",
       " 'pct_black',\n",
       " 'pct_asian',\n",
       " 'pct_hispanic',\n",
       " 'pct_native_american',\n",
       " 'pct_hawaiian',\n",
       " 'QMB_Only',\n",
       " 'QMB_plus_Full',\n",
       " 'SLMB_only',\n",
       " 'SLMB_plus_Full',\n",
       " 'QI',\n",
       " 'Other_full',\n",
       " 'Public_Total',\n",
       " 'SNAP_PA_Participation_Persons',\n",
       " 'SNAP_NPA_Participation_Persons',\n",
       " 'SNAP_All_Participation_Persons',\n",
       " 'SNAP_PA_Participation_Households',\n",
       " 'SNAP_NPA_Participation_Households',\n",
       " 'SNAP_All_Participation_Households',\n",
       " 'SNAP_All_Issuance',\n",
       " 'jobs_per_100k',\n",
       " 'av_household_earnings_per_100k']"
      ]
     },
     "execution_count": 42,
     "metadata": {},
     "output_type": "execute_result"
    }
   ],
   "source": [
    "features"
   ]
  },
  {
   "cell_type": "markdown",
   "metadata": {},
   "source": [
    "Look at the correlations of the features now within each list"
   ]
  },
  {
   "cell_type": "code",
   "execution_count": 43,
   "metadata": {},
   "outputs": [
    {
     "data": {
      "image/png": "[encoded data removed]",
      "text/plain": [
       "<Figure size 1296x864 with 2 Axes>"
      ]
     },
     "metadata": {
      "needs_background": "light"
     },
     "output_type": "display_data"
    }
   ],
   "source": [
    "plt.figure(figsize=(18, 12))\n",
    "sns.heatmap(covid_df[targets_list+features].corr(), cmap='coolwarm');"
   ]
  },
  {
   "cell_type": "markdown",
   "metadata": {},
   "source": [
    "We see that the strongest correlations to our percapita data at the moment are the pct_white, pct_black, percapita_income, median_household_income, median_family_income "
   ]
  },
  {
   "cell_type": "code",
   "execution_count": 44,
   "metadata": {},
   "outputs": [],
   "source": [
    "strongest = ['deaths_per_100k', 'cases_per_100k', 'pct_white',\n",
    "             'pct_black', 'percapita_income', 'median_household_income', 'median_family_income']"
   ]
  },
  {
   "cell_type": "code",
   "execution_count": 55,
   "metadata": {},
   "outputs": [
    {
     "data": {
      "image/png": "[encoded data removed]",
      "text/plain": [
       "<Figure size 1296x864 with 2 Axes>"
      ]
     },
     "metadata": {
      "needs_background": "light"
     },
     "output_type": "display_data"
    }
   ],
   "source": [
    "plt.figure(figsize=(18, 12))\n",
    "\n",
    "#sns.set(font_scale=3) # font size 2\n",
    "graph_words('black')\n",
    "sns.heatmap(covid_df[strongest].corr(), cmap='coolwarm', annot=True );"
   ]
  },
  {
   "cell_type": "markdown",
   "metadata": {},
   "source": [
    "## Racial Component\n",
    "\n",
    "Clearly, the largest positive correlation to percapita deaths in a county is the percentage of African Americans living in that county. Conversely, the strongest negative correlation to the percapita deaths is the percentage of white people living in that county. So as the percentage of black people increases, the number of people percaptia dying of covid increases, and as the percentage of white people increases, the number of people percapita dying of covid decreases. \n",
    "\n",
    "## Economic Component\n",
    "Also negatively correlated to deaths per capita in a county is the percapita income, median household income, and median family income. In other words, as the amount of money an average family is earning decreases, the number of people percapita that are dying of covid increases.\n",
    "\n",
    "Percapita income decreases in one of three ways:\n",
    "1. there are more children per working adult, and thus a general mean reduction\n",
    "    - This is off-set by the median household income measurement, which also has the same negative correlation\n",
    "2. the average salary or earnings potential is lower in that county than in other counties\n",
    "3. the unemployment rate is higher in that county than in other counties\n",
    "\n",
    "The last point is espeically precient given the current state of employment and/or the ability for families to provide food, shelter, and basic healthcare in the wake of our pandemic response and a lack of relief money coming back to the states, cities, counties, and households from the federal government."
   ]
  },
  {
   "cell_type": "code",
   "execution_count": 46,
   "metadata": {},
   "outputs": [
    {
     "data": {
      "image/png": "[encoded data removed]",
      "text/plain": [
       "<Figure size 1296x864 with 2 Axes>"
      ]
     },
     "metadata": {
      "needs_background": "light"
     },
     "output_type": "display_data"
    }
   ],
   "source": [
    "plt.figure(figsize=(18, 12))\n",
    "sns.heatmap(covid_df[targets_list+states].corr(), vmin=-1.0, vmax=0.5, cmap='coolwarm');"
   ]
  },
  {
   "cell_type": "markdown",
   "metadata": {},
   "source": [
    "## State to State Analysis"
   ]
  },
  {
   "cell_type": "markdown",
   "metadata": {},
   "source": [
    "## We see that very few states show a stronger correlation than others to percapita deaths\n",
    "\n",
    "Looking at the heatmap above, we can see that the states with the highest percapita cases are Alabama, Arkansas, Arizona, Florida, Georgia, Iowa, Louisiana, Mississippi, North Dakota, South Carolina, South Dakota, Tennessee, and Texas. We'll look later at the time-series data to see if this is due to more recent spikes or a steady build-up over time.\n",
    "\n",
    "In that same heatmap we clearly see that the deadliest states percapita include Georgia, Louisiana, Mississippi, and New Jersey, with Texas, South Carolina, Massachussets, Florida, and Arizona closely behind them.\n"
   ]
  },
  {
   "cell_type": "markdown",
   "metadata": {},
   "source": [
    "### NOTE : IF time permits, create all of the percapita columns with the rest of the data and see how those compare on the heatmap. If nothing else it should help to solidify the socio-economic binary that we are looking at\n",
    "\n",
    "This is done in the Kmeans notebook but should be added here as well to see how it affects the regression models"
   ]
  },
  {
   "cell_type": "code",
   "execution_count": null,
   "metadata": {},
   "outputs": [],
   "source": []
  }
 ],
 "metadata": {
  "kernelspec": {
   "display_name": "Python 3",
   "language": "python",
   "name": "python3"
  },
  "language_info": {
   "codemirror_mode": {
    "name": "ipython",
    "version": 3
   },
   "file_extension": ".py",
   "mimetype": "text/x-python",
   "name": "python",
   "nbconvert_exporter": "python",
   "pygments_lexer": "ipython3",
   "version": "3.7.6"
  }
 },
 "nbformat": 4,
 "nbformat_minor": 4
}
